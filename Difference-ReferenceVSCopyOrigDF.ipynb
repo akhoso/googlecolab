{
 "cells": [
  {
   "cell_type": "code",
   "execution_count": null,
   "metadata": {},
   "outputs": [],
   "source": [
    "Copying vs Referencing a DataFrame"
   ]
  },
  {
   "cell_type": "code",
   "execution_count": null,
   "metadata": {},
   "outputs": [],
   "source": [
    "# Create a reference by assigning my_dataframe to a new variable.\n",
    "print(\"Experiment with a reference:\")\n",
    "reference_to_df = df\n",
    "\n",
    "# Print the starting value of a particular cell.\n",
    "print(\"  Starting value of df: %d\" % df['Jason'][1])\n",
    "print(\"  Starting value of reference_to_df: %d\\n\" % reference_to_df['Jason'][1])\n",
    "\n",
    "# Modify a cell in df.\n",
    "df.at[1, 'Jason'] = df['Jason'][1] + 5\n",
    "print(\"  Updated df: %d\" % df['Jason'][1])\n",
    "print(\"  Updated reference_to_df: %d\\n\\n\" % reference_to_df['Jason'][1])\n",
    "\n",
    "# Create a true copy of my_dataframe\n",
    "print(\"Experiment with a true copy:\")\n",
    "copy_of_my_dataframe = my_dataframe.copy()\n",
    "\n",
    "# Print the starting value of a particular cell.\n",
    "print(\"  Starting value of my_dataframe: %d\" % my_dataframe['activity'][1])\n",
    "print(\"  Starting value of copy_of_my_dataframe: %d\\n\" % copy_of_my_dataframe['activity'][1])\n",
    "\n",
    "# Modify a cell in df.\n",
    "my_dataframe.at[1, 'activity'] = my_dataframe['activity'][1] + 3\n",
    "print(\"  Updated my_dataframe: %d\" % my_dataframe['activity'][1])\n",
    "print(\"  copy_of_my_dataframe does not get updated: %d\" % copy_of_my_dataframe['activity'][1])"
   ]
  },
  {
   "cell_type": "code",
   "execution_count": null,
   "metadata": {},
   "outputs": [],
   "source": [
    "# CREATING REFERENCE DF by assigning orig df to a new variable\n",
    "referenceTodf=df\n",
    "\n",
    "# print starting values for check\n",
    "print(df['col1'][1])\n",
    "print(referenceTodf['col1'][1])\n",
    "\n",
    "# modify orig df and validate changes\n",
    "df.at[1,'col1'] = df['col1'][1]+5\n",
    "print(df['col1'][1])\n",
    "print(referenceTodf['col1'][1])\n",
    "\n",
    "# CREATING COPY OF DF\n",
    "copyOfdf=df.copy()\n",
    "print(df['col2'][1])\n",
    "print(copyOfdf['col2'][1])\n",
    "\n",
    "# modify orig df and validate changes\n",
    "df.at[1,'col2'] = df['col2'][1]+3\n",
    "print(df['col2'][1])\n",
    "print(copyOfdf['col2'][1])\n",
    "\n",
    "\n",
    "\n",
    "\n",
    "\n"
   ]
  }
 ],
 "metadata": {
  "kernelspec": {
   "display_name": "Python 3",
   "language": "python",
   "name": "python3"
  },
  "language_info": {
   "codemirror_mode": {
    "name": "ipython",
    "version": 3
   },
   "file_extension": ".py",
   "mimetype": "text/x-python",
   "name": "python",
   "nbconvert_exporter": "python",
   "pygments_lexer": "ipython3",
   "version": "3.7.4"
  }
 },
 "nbformat": 4,
 "nbformat_minor": 4
}
