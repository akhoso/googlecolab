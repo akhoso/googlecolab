{
 "cells": [
  {
   "cell_type": "code",
   "execution_count": 1,
   "metadata": {
    "collapsed": true,
    "jupyter": {
     "outputs_hidden": true
    }
   },
   "outputs": [
    {
     "name": "stderr",
     "output_type": "stream",
     "text": [
      "UsageError: Line magic function `%tensorflow_version` not found.\n"
     ]
    }
   ],
   "source": [
    "#@title Run on TensorFlow 2.x\n",
    "%tensorflow_version 2.x"
   ]
  },
  {
   "cell_type": "code",
   "execution_count": 2,
   "metadata": {},
   "outputs": [],
   "source": [
    "# Import relevant modules\n",
    "import pandas as pd\n",
    "import tensorflow as tf\n",
    "from matplotlib import pyplot as plt\n",
    "\n",
    "# The following lines adjust the granularity of reporting. \n",
    "pd.options.display.max_rows = 10\n",
    "pd.options.display.float_format = \"{:.1f}\".format"
   ]
  },
  {
   "cell_type": "markdown",
   "metadata": {},
   "source": [
    "The following code cell imports the .csv file into a pandas DataFrame and scales the values in the label (median_house_value):"
   ]
  },
  {
   "cell_type": "code",
   "execution_count": 3,
   "metadata": {},
   "outputs": [
    {
     "data": {
      "text/html": [
       "<div>\n",
       "<style scoped>\n",
       "    .dataframe tbody tr th:only-of-type {\n",
       "        vertical-align: middle;\n",
       "    }\n",
       "\n",
       "    .dataframe tbody tr th {\n",
       "        vertical-align: top;\n",
       "    }\n",
       "\n",
       "    .dataframe thead th {\n",
       "        text-align: right;\n",
       "    }\n",
       "</style>\n",
       "<table border=\"1\" class=\"dataframe\">\n",
       "  <thead>\n",
       "    <tr style=\"text-align: right;\">\n",
       "      <th></th>\n",
       "      <th>longitude</th>\n",
       "      <th>latitude</th>\n",
       "      <th>housing_median_age</th>\n",
       "      <th>total_rooms</th>\n",
       "      <th>total_bedrooms</th>\n",
       "      <th>population</th>\n",
       "      <th>households</th>\n",
       "      <th>median_income</th>\n",
       "      <th>median_house_value</th>\n",
       "    </tr>\n",
       "  </thead>\n",
       "  <tbody>\n",
       "    <tr>\n",
       "      <th>0</th>\n",
       "      <td>-114.3</td>\n",
       "      <td>34.2</td>\n",
       "      <td>15.0</td>\n",
       "      <td>5612.0</td>\n",
       "      <td>1283.0</td>\n",
       "      <td>1015.0</td>\n",
       "      <td>472.0</td>\n",
       "      <td>1.5</td>\n",
       "      <td>66.9</td>\n",
       "    </tr>\n",
       "    <tr>\n",
       "      <th>1</th>\n",
       "      <td>-114.5</td>\n",
       "      <td>34.4</td>\n",
       "      <td>19.0</td>\n",
       "      <td>7650.0</td>\n",
       "      <td>1901.0</td>\n",
       "      <td>1129.0</td>\n",
       "      <td>463.0</td>\n",
       "      <td>1.8</td>\n",
       "      <td>80.1</td>\n",
       "    </tr>\n",
       "    <tr>\n",
       "      <th>2</th>\n",
       "      <td>-114.6</td>\n",
       "      <td>33.7</td>\n",
       "      <td>17.0</td>\n",
       "      <td>720.0</td>\n",
       "      <td>174.0</td>\n",
       "      <td>333.0</td>\n",
       "      <td>117.0</td>\n",
       "      <td>1.7</td>\n",
       "      <td>85.7</td>\n",
       "    </tr>\n",
       "    <tr>\n",
       "      <th>3</th>\n",
       "      <td>-114.6</td>\n",
       "      <td>33.6</td>\n",
       "      <td>14.0</td>\n",
       "      <td>1501.0</td>\n",
       "      <td>337.0</td>\n",
       "      <td>515.0</td>\n",
       "      <td>226.0</td>\n",
       "      <td>3.2</td>\n",
       "      <td>73.4</td>\n",
       "    </tr>\n",
       "    <tr>\n",
       "      <th>4</th>\n",
       "      <td>-114.6</td>\n",
       "      <td>33.6</td>\n",
       "      <td>20.0</td>\n",
       "      <td>1454.0</td>\n",
       "      <td>326.0</td>\n",
       "      <td>624.0</td>\n",
       "      <td>262.0</td>\n",
       "      <td>1.9</td>\n",
       "      <td>65.5</td>\n",
       "    </tr>\n",
       "  </tbody>\n",
       "</table>\n",
       "</div>"
      ],
      "text/plain": [
       "   longitude  latitude  housing_median_age  total_rooms  total_bedrooms  \\\n",
       "0     -114.3      34.2                15.0       5612.0          1283.0   \n",
       "1     -114.5      34.4                19.0       7650.0          1901.0   \n",
       "2     -114.6      33.7                17.0        720.0           174.0   \n",
       "3     -114.6      33.6                14.0       1501.0           337.0   \n",
       "4     -114.6      33.6                20.0       1454.0           326.0   \n",
       "\n",
       "   population  households  median_income  median_house_value  \n",
       "0      1015.0       472.0            1.5                66.9  \n",
       "1      1129.0       463.0            1.8                80.1  \n",
       "2       333.0       117.0            1.7                85.7  \n",
       "3       515.0       226.0            3.2                73.4  \n",
       "4       624.0       262.0            1.9                65.5  "
      ]
     },
     "execution_count": 3,
     "metadata": {},
     "output_type": "execute_result"
    }
   ],
   "source": [
    "# Import the dataset.\n",
    "training_df = pd.read_csv(filepath_or_buffer=\"https://download.mlcc.google.com/mledu-datasets/california_housing_train.csv\")\n",
    "\n",
    "# Scale the label.\n",
    "training_df[\"median_house_value\"] /= 1000.0\n",
    "# this means \"training_df[\"median_house_value\"] = training_df[\"median_house_value\"]/1000.0\"\n",
    "\n",
    "# Print the first rows of the pandas DataFrame.\n",
    "training_df.head()"
   ]
  },
  {
   "cell_type": "markdown",
   "metadata": {},
   "source": [
    "## Examine the dataset\n",
    "\n",
    "A large part of most machine learning projects is getting to know your data. The pandas API provides a `describe` function that outputs the following statistics about every column in the DataFrame:\n",
    "\n",
    "* `count`, which is the number of rows in that column. Ideally, `count` contains the same value for every column. \n",
    "\n",
    "* `mean` and `std`, which contain the mean and standard deviation of the values in each column. \n",
    "\n",
    "* `min` and `max`, which contain the lowest and highest values in each column.\n",
    "\n",
    "* `25%`, `50%`, `75%`, which contain various [quantiles](https://developers.google.com/machine-learning/glossary/#quantile)."
   ]
  },
  {
   "cell_type": "code",
   "execution_count": 4,
   "metadata": {},
   "outputs": [
    {
     "data": {
      "text/html": [
       "<div>\n",
       "<style scoped>\n",
       "    .dataframe tbody tr th:only-of-type {\n",
       "        vertical-align: middle;\n",
       "    }\n",
       "\n",
       "    .dataframe tbody tr th {\n",
       "        vertical-align: top;\n",
       "    }\n",
       "\n",
       "    .dataframe thead th {\n",
       "        text-align: right;\n",
       "    }\n",
       "</style>\n",
       "<table border=\"1\" class=\"dataframe\">\n",
       "  <thead>\n",
       "    <tr style=\"text-align: right;\">\n",
       "      <th></th>\n",
       "      <th>longitude</th>\n",
       "      <th>latitude</th>\n",
       "      <th>housing_median_age</th>\n",
       "      <th>total_rooms</th>\n",
       "      <th>total_bedrooms</th>\n",
       "      <th>population</th>\n",
       "      <th>households</th>\n",
       "      <th>median_income</th>\n",
       "      <th>median_house_value</th>\n",
       "    </tr>\n",
       "  </thead>\n",
       "  <tbody>\n",
       "    <tr>\n",
       "      <th>count</th>\n",
       "      <td>17000.0</td>\n",
       "      <td>17000.0</td>\n",
       "      <td>17000.0</td>\n",
       "      <td>17000.0</td>\n",
       "      <td>17000.0</td>\n",
       "      <td>17000.0</td>\n",
       "      <td>17000.0</td>\n",
       "      <td>17000.0</td>\n",
       "      <td>17000.0</td>\n",
       "    </tr>\n",
       "    <tr>\n",
       "      <th>mean</th>\n",
       "      <td>-119.6</td>\n",
       "      <td>35.6</td>\n",
       "      <td>28.6</td>\n",
       "      <td>2643.7</td>\n",
       "      <td>539.4</td>\n",
       "      <td>1429.6</td>\n",
       "      <td>501.2</td>\n",
       "      <td>3.9</td>\n",
       "      <td>207.3</td>\n",
       "    </tr>\n",
       "    <tr>\n",
       "      <th>std</th>\n",
       "      <td>2.0</td>\n",
       "      <td>2.1</td>\n",
       "      <td>12.6</td>\n",
       "      <td>2179.9</td>\n",
       "      <td>421.5</td>\n",
       "      <td>1147.9</td>\n",
       "      <td>384.5</td>\n",
       "      <td>1.9</td>\n",
       "      <td>116.0</td>\n",
       "    </tr>\n",
       "    <tr>\n",
       "      <th>min</th>\n",
       "      <td>-124.3</td>\n",
       "      <td>32.5</td>\n",
       "      <td>1.0</td>\n",
       "      <td>2.0</td>\n",
       "      <td>1.0</td>\n",
       "      <td>3.0</td>\n",
       "      <td>1.0</td>\n",
       "      <td>0.5</td>\n",
       "      <td>15.0</td>\n",
       "    </tr>\n",
       "    <tr>\n",
       "      <th>25%</th>\n",
       "      <td>-121.8</td>\n",
       "      <td>33.9</td>\n",
       "      <td>18.0</td>\n",
       "      <td>1462.0</td>\n",
       "      <td>297.0</td>\n",
       "      <td>790.0</td>\n",
       "      <td>282.0</td>\n",
       "      <td>2.6</td>\n",
       "      <td>119.4</td>\n",
       "    </tr>\n",
       "    <tr>\n",
       "      <th>50%</th>\n",
       "      <td>-118.5</td>\n",
       "      <td>34.2</td>\n",
       "      <td>29.0</td>\n",
       "      <td>2127.0</td>\n",
       "      <td>434.0</td>\n",
       "      <td>1167.0</td>\n",
       "      <td>409.0</td>\n",
       "      <td>3.5</td>\n",
       "      <td>180.4</td>\n",
       "    </tr>\n",
       "    <tr>\n",
       "      <th>75%</th>\n",
       "      <td>-118.0</td>\n",
       "      <td>37.7</td>\n",
       "      <td>37.0</td>\n",
       "      <td>3151.2</td>\n",
       "      <td>648.2</td>\n",
       "      <td>1721.0</td>\n",
       "      <td>605.2</td>\n",
       "      <td>4.8</td>\n",
       "      <td>265.0</td>\n",
       "    </tr>\n",
       "    <tr>\n",
       "      <th>max</th>\n",
       "      <td>-114.3</td>\n",
       "      <td>42.0</td>\n",
       "      <td>52.0</td>\n",
       "      <td>37937.0</td>\n",
       "      <td>6445.0</td>\n",
       "      <td>35682.0</td>\n",
       "      <td>6082.0</td>\n",
       "      <td>15.0</td>\n",
       "      <td>500.0</td>\n",
       "    </tr>\n",
       "  </tbody>\n",
       "</table>\n",
       "</div>"
      ],
      "text/plain": [
       "       longitude  latitude  housing_median_age  total_rooms  total_bedrooms  \\\n",
       "count    17000.0   17000.0             17000.0      17000.0         17000.0   \n",
       "mean      -119.6      35.6                28.6       2643.7           539.4   \n",
       "std          2.0       2.1                12.6       2179.9           421.5   \n",
       "min       -124.3      32.5                 1.0          2.0             1.0   \n",
       "25%       -121.8      33.9                18.0       1462.0           297.0   \n",
       "50%       -118.5      34.2                29.0       2127.0           434.0   \n",
       "75%       -118.0      37.7                37.0       3151.2           648.2   \n",
       "max       -114.3      42.0                52.0      37937.0          6445.0   \n",
       "\n",
       "       population  households  median_income  median_house_value  \n",
       "count     17000.0     17000.0        17000.0             17000.0  \n",
       "mean       1429.6       501.2            3.9               207.3  \n",
       "std        1147.9       384.5            1.9               116.0  \n",
       "min           3.0         1.0            0.5                15.0  \n",
       "25%         790.0       282.0            2.6               119.4  \n",
       "50%        1167.0       409.0            3.5               180.4  \n",
       "75%        1721.0       605.2            4.8               265.0  \n",
       "max       35682.0      6082.0           15.0               500.0  "
      ]
     },
     "execution_count": 4,
     "metadata": {},
     "output_type": "execute_result"
    }
   ],
   "source": [
    "# Get statistics on the dataset.\n",
    "training_df.describe()"
   ]
  },
  {
   "cell_type": "markdown",
   "metadata": {},
   "source": [
    "#@title Double-click to view a possible answer.\n",
    "\n",
    "# The maximum value (max) of several columns seems very\n",
    "# high compared to the other quantiles. For example,\n",
    "# example the total_rooms column. Given the quantile\n",
    "# values (25%, 50%, and 75%), you might expect the \n",
    "# max value of total_rooms to be approximately \n",
    "# 5,000 or possibly 10,000. However, the max value \n",
    "# is actually 37,937.\n",
    "\n",
    "# When you see anomalies in a column, become more careful\n",
    "# about using that column as a feature. That said,\n",
    "# anomalies in potential features sometimes mirror \n",
    "# anomalies in the label, which could make the column \n",
    "# be (or seem to be) a powerful feature.\n",
    "# Also, as you will see later in the course, you \n",
    "# might be able to represent (pre-process) raw data \n",
    "# in order to make columns into useful features."
   ]
  },
  {
   "cell_type": "markdown",
   "metadata": {},
   "source": [
    "## Define functions that build and train a model\n",
    "\n",
    "The following code defines two functions:\n",
    "\n",
    "  * `build_model(my_learning_rate)`, which builds a randomly-initialized model.\n",
    "  * `train_model(model, feature, label, epochs)`, which trains the model from the examples (feature and label) you pass. \n",
    "\n",
    "Since you don't need to understand model building code right now, we've hidden this code cell.  You may optionally double-click the following headline to see the code that builds and trains a model."
   ]
  },
  {
   "cell_type": "code",
   "execution_count": 5,
   "metadata": {},
   "outputs": [
    {
     "name": "stdout",
     "output_type": "stream",
     "text": [
      "Defined the create_model and traing_model functions.\n"
     ]
    }
   ],
   "source": [
    "#@title Define the functions that build and train a model\n",
    "def build_model(my_learning_rate):\n",
    "  \"\"\"Create and compile a simple linear regression model.\"\"\"\n",
    "  # Most simple tf.keras models are sequential.\n",
    "  model = tf.keras.models.Sequential()\n",
    "\n",
    "  # Describe the topography of the model.\n",
    "  # The topography of a simple linear regression model\n",
    "  # is a single node in a single layer.\n",
    "  model.add(tf.keras.layers.Dense(units=1, \n",
    "                                  input_shape=(1,)))\n",
    "\n",
    "  # Compile the model topography into code that TensorFlow can efficiently\n",
    "  # execute. Configure training to minimize the model's mean squared error. \n",
    "  model.compile(optimizer=tf.keras.optimizers.RMSprop(lr=my_learning_rate),\n",
    "                loss=\"mean_squared_error\",\n",
    "                metrics=[tf.keras.metrics.RootMeanSquaredError()])\n",
    "\n",
    "  return model        \n",
    "\n",
    "\n",
    "def train_model(model, df, feature, label, epochs, batch_size):\n",
    "  \"\"\"Train the model by feeding it data.\"\"\"\n",
    "\n",
    "  # Feed the model the feature and the label.\n",
    "  # The model will train for the specified number of epochs. \n",
    "  history = model.fit(x=df[feature],\n",
    "                      y=df[label],\n",
    "                      batch_size=batch_size,\n",
    "                      epochs=epochs)\n",
    "\n",
    "  # Gather the trained model's weight and bias.\n",
    "  trained_weight = model.get_weights()[0]\n",
    "  trained_bias = model.get_weights()[1]\n",
    "\n",
    "  # The list of epochs is stored separately from the rest of history.\n",
    "  epochs = history.epoch\n",
    "  \n",
    "  # Isolate the error for each epoch.\n",
    "  hist = pd.DataFrame(history.history)\n",
    "\n",
    "  # To track the progression of training, we're going to take a snapshot\n",
    "  # of the model's root mean squared error at each epoch. \n",
    "  rmse = hist[\"root_mean_squared_error\"]\n",
    "\n",
    "  return trained_weight, trained_bias, epochs, rmse\n",
    "\n",
    "print(\"Defined the create_model and traing_model functions.\")"
   ]
  },
  {
   "cell_type": "markdown",
   "metadata": {},
   "source": [
    "## Define plotting functions\n",
    "\n",
    "The following [matplotlib](https://developers.google.com/machine-learning/glossary/#matplotlib) functions create the following plots:\n",
    "\n",
    "*  a scatter plot of the feature vs. the label, and a line showing the output of the trained model\n",
    "*  a loss curve\n",
    "\n",
    "You may optionally double-click the headline to see the matplotlib code, but note that writing matplotlib code is not an important part of learning ML programming."
   ]
  },
  {
   "cell_type": "code",
   "execution_count": 6,
   "metadata": {},
   "outputs": [
    {
     "name": "stdout",
     "output_type": "stream",
     "text": [
      "Defined the plot_the_model and plot_the_loss_curve functions.\n"
     ]
    }
   ],
   "source": [
    "#@title Define the plotting functions\n",
    "def plot_the_model(trained_weight, trained_bias, feature, label):\n",
    "  \"\"\"Plot the trained model against 200 random training examples.\"\"\"\n",
    "\n",
    "  # Label the axes.\n",
    "  plt.xlabel(feature)\n",
    "  plt.ylabel(label)\n",
    "\n",
    "  # Create a scatter plot from 200 random points of the dataset.\n",
    "  random_examples = training_df.sample(n=200)\n",
    "  plt.scatter(random_examples[feature], random_examples[label])\n",
    "\n",
    "  # Create a red line representing the model. The red line starts\n",
    "  # at coordinates (x0, y0) and ends at coordinates (x1, y1).\n",
    "  x0 = 0\n",
    "  y0 = trained_bias\n",
    "  x1 = 10000\n",
    "  y1 = trained_bias + (trained_weight * x1)\n",
    "  plt.plot([x0, x1], [y0, y1], c='r')\n",
    "\n",
    "  # Render the scatter plot and the red line.\n",
    "  plt.show()\n",
    "\n",
    "\n",
    "def plot_the_loss_curve(epochs, rmse):\n",
    "  \"\"\"Plot a curve of loss vs. epoch.\"\"\"\n",
    "\n",
    "  plt.figure()\n",
    "  plt.xlabel(\"Epoch\")\n",
    "  plt.ylabel(\"Root Mean Squared Error\")\n",
    "\n",
    "  plt.plot(epochs, rmse, label=\"Loss\")\n",
    "  plt.legend()\n",
    "  plt.ylim([rmse.min()*0.97, rmse.max()])\n",
    "  plt.show()  \n",
    "\n",
    "print(\"Defined the plot_the_model and plot_the_loss_curve functions.\")"
   ]
  },
  {
   "cell_type": "markdown",
   "metadata": {},
   "source": [
    "## Call the model functions\n",
    "\n",
    "An important part of machine learning is determining which [features](https://developers.google.com/machine-learning/glossary/#feature) correlate with the [label](https://developers.google.com/machine-learning/glossary/#label). For example, real-life home-value prediction models typically rely on hundreds of features and synthetic features. However, this model relies on only one feature. For now, you'll arbitrarily use `total_rooms` as that feature. \n"
   ]
  },
  {
   "cell_type": "code",
   "execution_count": 7,
   "metadata": {
    "collapsed": true,
    "jupyter": {
     "outputs_hidden": true
    }
   },
   "outputs": [
    {
     "name": "stdout",
     "output_type": "stream",
     "text": [
      "WARNING:tensorflow:Falling back from v2 loop because of error: Failed to find data adapter that can handle input: <class 'pandas.core.series.Series'>, <class 'NoneType'>\n",
      "Train on 17000 samples\n",
      "Epoch 1/30\n",
      "17000/17000 [==============================] - 2s 117us/sample - loss: 2297061.4341 - root_mean_squared_error: 1515.6053 - loss: 7500699.9168 - \n",
      "Epoch 2/30\n",
      "17000/17000 [==============================] - 1s 72us/sample - loss: 27862.6950 - root_mean_squared_error: 166.92120s - loss: 27803.3715 - root_mean_squared_error: 166.74\n",
      "Epoch 3/30\n",
      "17000/17000 [==============================] - 1s 71us/sample - loss: 26996.9352 - root_mean_squared_error: 164.3074\n",
      "Epoch 4/30\n",
      "17000/17000 [==============================] - 1s 69us/sample - loss: 26099.5653 - root_mean_squared_error: 161.5536\n",
      "Epoch 5/30\n",
      "17000/17000 [==============================] - 1s 71us/sample - loss: 25461.4914 - root_mean_squared_error: 159.5666\n",
      "Epoch 6/30\n",
      "17000/17000 [==============================] - 1s 71us/sample - loss: 24839.2226 - root_mean_squared_error: 157.6046\n",
      "Epoch 7/30\n",
      "17000/17000 [==============================] - 1s 70us/sample - loss: 24210.7500 - root_mean_squared_error: 155.59810s - loss: 24637.4281 - root_mean_squared_er\n",
      "Epoch 8/30\n",
      "17000/17000 [==============================] - 1s 79us/sample - loss: 23484.3392 - root_mean_squared_error: 153.2460\n",
      "Epoch 9/30\n",
      "17000/17000 [==============================] - 1s 77us/sample - loss: 22953.5537 - root_mean_squared_error: 151.5043\n",
      "Epoch 10/30\n",
      "17000/17000 [==============================] - 1s 84us/sample - loss: 22656.5345 - root_mean_squared_error: 150.5208\n",
      "Epoch 11/30\n",
      "17000/17000 [==============================] - 2s 104us/sample - loss: 21909.6904 - root_mean_squared_error: 148.0192\n",
      "Epoch 12/30\n",
      "17000/17000 [==============================] - 2s 99us/sample - loss: 21306.8188 - root_mean_squared_error: 145.9686\n",
      "Epoch 13/30\n",
      "17000/17000 [==============================] - 2s 89us/sample - loss: 20866.1282 - root_mean_squared_error: 144.4511\n",
      "Epoch 14/30\n",
      "17000/17000 [==============================] - 1s 86us/sample - loss: 20390.3448 - root_mean_squared_error: 142.7947\n",
      "Epoch 15/30\n",
      "17000/17000 [==============================] - 2s 111us/sample - loss: 19927.1279 - root_mean_squared_error: 141.1635\n",
      "Epoch 16/30\n",
      "17000/17000 [==============================] - 2s 90us/sample - loss: 19320.0339 - root_mean_squared_error: 138.9965\n",
      "Epoch 17/30\n",
      "17000/17000 [==============================] - 2s 97us/sample - loss: 18983.5663 - root_mean_squared_error: 137.7809\n",
      "Epoch 18/30\n",
      "17000/17000 [==============================] - 2s 129us/sample - loss: 18655.1789 - root_mean_squared_error: 136.5840\n",
      "Epoch 19/30\n",
      "17000/17000 [==============================] - 2s 117us/sample - loss: 18148.4234 - root_mean_squared_error: 134.7161\n",
      "Epoch 20/30\n",
      "17000/17000 [==============================] - 2s 105us/sample - loss: 17775.3999 - root_mean_squared_error: 133.3244\n",
      "Epoch 21/30\n",
      "17000/17000 [==============================] - 1s 77us/sample - loss: 17525.3761 - root_mean_squared_error: 132.3835\n",
      "Epoch 22/30\n",
      "17000/17000 [==============================] - 1s 80us/sample - loss: 17251.0620 - root_mean_squared_error: 131.3433\n",
      "Epoch 23/30\n",
      "17000/17000 [==============================] - 1s 79us/sample - loss: 16866.5602 - root_mean_squared_error: 129.8713\n",
      "Epoch 24/30\n",
      "17000/17000 [==============================] - 2s 90us/sample - loss: 16594.4082 - root_mean_squared_error: 128.8193\n",
      "Epoch 25/30\n",
      "17000/17000 [==============================] - 1s 79us/sample - loss: 16275.7191 - root_mean_squared_error: 127.5764\n",
      "Epoch 26/30\n",
      "17000/17000 [==============================] - 1s 86us/sample - loss: 16096.9679 - root_mean_squared_error: 126.8738\n",
      "Epoch 27/30\n",
      "17000/17000 [==============================] - 2s 90us/sample - loss: 15873.2239 - root_mean_squared_error: 125.98900s - loss: 15893.3285 - root_mean_squared_error: 126.0\n",
      "Epoch 28/30\n",
      "17000/17000 [==============================] - 1s 71us/sample - loss: 15666.9367 - root_mean_squared_error: 125.16760s - loss: 14827.1979 - root_mean_squar\n",
      "Epoch 29/30\n",
      "17000/17000 [==============================] - 1s 73us/sample - loss: 15424.8351 - root_mean_squared_error: 124.1967\n",
      "Epoch 30/30\n",
      "17000/17000 [==============================] - 2s 88us/sample - loss: 15353.6510 - root_mean_squared_error: 123.9098\n",
      "\n",
      "The learned weight for your model is 0.0342\n",
      "The learned bias for your model is 132.2704\n",
      "\n"
     ]
    },
    {
     "data": {
      "image/png": "[encoded data removed]",
      "text/plain": [
       "<Figure size 432x288 with 1 Axes>"
      ]
     },
     "metadata": {
      "needs_background": "light"
     },
     "output_type": "display_data"
    },
    {
     "data": {
      "image/png": "[encoded data removed]",
      "text/plain": [
       "<Figure size 432x288 with 1 Axes>"
      ]
     },
     "metadata": {
      "needs_background": "light"
     },
     "output_type": "display_data"
    }
   ],
   "source": [
    "# The following variables are the hyperparameters.\n",
    "learning_rate = 0.01\n",
    "epochs = 30\n",
    "batch_size = 30\n",
    "\n",
    "# Specify the feature and the label.\n",
    "my_feature = \"total_rooms\"  # the total number of rooms on a specific city block.\n",
    "my_label=\"median_house_value\" # the median value of a house on a specific city block.\n",
    "# That is, you're going to create a model that predicts house value based \n",
    "# solely on total_rooms.  \n",
    "\n",
    "# Discard any pre-existing version of the model.\n",
    "my_model = None\n",
    "\n",
    "# Invoke the functions.\n",
    "my_model = build_model(learning_rate)\n",
    "weight, bias, epochs, rmse = train_model(my_model, training_df, \n",
    "                                         my_feature, my_label,\n",
    "                                         epochs, batch_size)\n",
    "\n",
    "print(\"\\nThe learned weight for your model is %.4f\" % weight) # %.4f just means 4 decimal places after the float\n",
    "print(\"The learned bias for your model is %.4f\\n\" % bias )\n",
    "\n",
    "plot_the_model(weight, bias, my_feature, my_label)\n",
    "plot_the_loss_curve(epochs, rmse)"
   ]
  },
  {
   "cell_type": "markdown",
   "metadata": {},
   "source": [
    "## Use the model to make predictions\n",
    "\n",
    "You can use the trained model to make predictions. In practice, [you should make predictions on examples that are not used in training](https://developers.google.com/machine-learning/crash-course/training-and-test-sets/splitting-data). However, for this exercise, you'll just work with a subset of the same training dataset. A later Colab exercise will explore ways to make predictions on examples not used in training.\n",
    "\n",
    "First, run the following code to define the house prediction function:"
   ]
  },
  {
   "cell_type": "code",
   "execution_count": 8,
   "metadata": {},
   "outputs": [],
   "source": [
    "def predict_house_values(n, feature, label):\n",
    "  \"\"\"Predict house values based on a feature.\"\"\"\n",
    "\n",
    "  batch = training_df[feature][10000:10000 + n]\n",
    "  predicted_values = my_model.predict_on_batch(x=batch)\n",
    "\n",
    "  print(\"feature   label          predicted\")\n",
    "  print(\"  value   value          value\")\n",
    "  print(\"          in thousand$   in thousand$\")\n",
    "  print(\"--------------------------------------\")\n",
    "  for i in range(n):\n",
    "    print (\"%5.0f %6.0f %15.0f\" % (training_df[feature][10000 + i],\n",
    "                                   training_df[label][10000 + i],\n",
    "                                   predicted_values[i][0] ))"
   ]
  },
  {
   "cell_type": "markdown",
   "metadata": {},
   "source": [
    "Now, invoke the house prediction function on 10 examples:"
   ]
  },
  {
   "cell_type": "code",
   "execution_count": 9,
   "metadata": {},
   "outputs": [
    {
     "name": "stdout",
     "output_type": "stream",
     "text": [
      "feature   label          predicted\n",
      "  value   value          value\n",
      "          in thousand$   in thousand$\n",
      "--------------------------------------\n",
      " 1960     53             199\n",
      " 3400     92             249\n",
      " 3677     69             258\n",
      " 2202     62             208\n",
      " 2403     80             215\n",
      " 5652    295             326\n",
      " 3318    500             246\n",
      " 2552    342             220\n",
      " 1364    118             179\n",
      " 3468    128             251\n"
     ]
    }
   ],
   "source": [
    "predict_house_values(10, my_feature, my_label)"
   ]
  },
  {
   "cell_type": "code",
   "execution_count": 10,
   "metadata": {},
   "outputs": [],
   "source": [
    "# TASK 2 JUDGE THE PREDICTIVE POWER OF THE MODEL\n",
    "# Double-click to view the answer.\n",
    "\n",
    "# Most of the predicted values differ significantly\n",
    "# from the label value, so the trained model probably \n",
    "# doesn't have much predictive power. However, the\n",
    "# first 10 examples might not be representative of \n",
    "# the rest of the examples.  "
   ]
  },
  {
   "cell_type": "markdown",
   "metadata": {},
   "source": [
    "## Task 3: Try a different feature\n",
    "\n",
    "The `total_rooms` feature had only a little predictive power. Would a different feature have greater predictive power?  Try using `population` as the feature instead of `total_rooms`. \n",
    "\n",
    "Note: When you change features, you might also need to change the hyperparameters."
   ]
  },
  {
   "cell_type": "code",
   "execution_count": 11,
   "metadata": {
    "collapsed": true,
    "jupyter": {
     "outputs_hidden": true
    }
   },
   "outputs": [
    {
     "name": "stdout",
     "output_type": "stream",
     "text": [
      "WARNING:tensorflow:Falling back from v2 loop because of error: Failed to find data adapter that can handle input: <class 'pandas.core.series.Series'>, <class 'NoneType'>\n",
      "Train on 17000 samples\n",
      "Epoch 1/3\n",
      "17000/17000 [==============================] - 1s 59us/sample - loss: 3618013.4294 - root_mean_squared_error: 1902.1075\n",
      "Epoch 2/3\n",
      "17000/17000 [==============================] - 0s 18us/sample - loss: 3675965.8771 - root_mean_squared_error: 1917.2808\n",
      "Epoch 3/3\n",
      "17000/17000 [==============================] - 0s 26us/sample - loss: 2959421.9057 - root_mean_squared_error: 1720.2971\n"
     ]
    },
    {
     "data": {
      "image/png": "[encoded data removed]",
      "text/plain": [
       "<Figure size 432x288 with 1 Axes>"
      ]
     },
     "metadata": {
      "needs_background": "light"
     },
     "output_type": "display_data"
    },
    {
     "data": {
      "image/png": "[encoded data removed]",
      "text/plain": [
       "<Figure size 432x288 with 1 Axes>"
      ]
     },
     "metadata": {
      "needs_background": "light"
     },
     "output_type": "display_data"
    },
    {
     "name": "stdout",
     "output_type": "stream",
     "text": [
      "feature   label          predicted\n",
      "  value   value          value\n",
      "          in thousand$   in thousand$\n",
      "--------------------------------------\n",
      " 1286     53            -448\n",
      " 1867     92            -669\n",
      " 2191     69            -792\n",
      " 1052     62            -359\n",
      " 1647     80            -585\n",
      " 2312    295            -838\n",
      " 1604    500            -569\n",
      " 1066    342            -364\n",
      "  338    118             -87\n",
      " 1604    128            -569\n",
      " 1200    187            -415\n",
      "  292     80             -70\n",
      " 2014    112            -725\n",
      " 1817     95            -650\n",
      " 1328     69            -464\n"
     ]
    }
   ],
   "source": [
    "my_feature = \"population\"   # Replace the ? with population or possibly\n",
    "                   # a different column name.\n",
    "\n",
    "# Experiment with the hyperparameters.\n",
    "learning_rate = 2\n",
    "epochs = 3\n",
    "batch_size = 120\n",
    "\n",
    "# Don't change anything below this line.\n",
    "my_model = build_model(learning_rate)\n",
    "weight, bias, epochs, rmse = train_model(my_model, training_df, \n",
    "                                         my_feature, my_label,\n",
    "                                         epochs, batch_size)\n",
    "plot_the_model(weight, bias, my_feature, my_label)\n",
    "plot_the_loss_curve(epochs, rmse)\n",
    "\n",
    "predict_house_values(15, my_feature, my_label)"
   ]
  },
  {
   "cell_type": "code",
   "execution_count": 12,
   "metadata": {
    "collapsed": true,
    "jupyter": {
     "outputs_hidden": true
    }
   },
   "outputs": [
    {
     "name": "stdout",
     "output_type": "stream",
     "text": [
      "WARNING:tensorflow:Falling back from v2 loop because of error: Failed to find data adapter that can handle input: <class 'pandas.core.series.Series'>, <class 'NoneType'>\n",
      "Train on 17000 samples\n",
      "Epoch 1/18\n",
      "17000/17000 [==============================] - 12s 730us/sample - loss: 28252.5642 - root_mean_squared_error: 168.0850\n",
      "Epoch 2/18\n",
      "17000/17000 [==============================] - 12s 702us/sample - loss: 19487.9385 - root_mean_squared_error: 139.5993\n",
      "Epoch 3/18\n",
      "17000/17000 [==============================] - 12s 698us/sample - loss: 18154.8970 - root_mean_squared_error: 134.7401\n",
      "Epoch 4/18\n",
      "17000/17000 [==============================] - 12s 706us/sample - loss: 18015.5294 - root_mean_squared_error: 134.2220\n",
      "Epoch 5/18\n",
      "17000/17000 [==============================] - 12s 731us/sample - loss: 18289.3653 - root_mean_squared_error: 135.2381 - loss: 18255.0218 - root_\n",
      "Epoch 6/18\n",
      "17000/17000 [==============================] - 12s 722us/sample - loss: 18074.9274 - root_mean_squared_error: 134.4432\n",
      "Epoch 7/18\n",
      "17000/17000 [==============================] - 13s 745us/sample - loss: 17937.1050 - root_mean_squared_error: 133.9293\n",
      "Epoch 8/18\n",
      "17000/17000 [==============================] - 13s 738us/sample - loss: 17989.2725 - root_mean_squared_error: 134.1241 - loss: 17872.336\n",
      "Epoch 9/18\n",
      "17000/17000 [==============================] - 12s 727us/sample - loss: 18009.2099 - root_mean_squared_error: 134.1982\n",
      "Epoch 10/18\n",
      "17000/17000 [==============================] - 13s 736us/sample - loss: 17880.3965 - root_mean_squared_error: 133.7176 - loss: 17905.8565 - root_mean_squared_e\n",
      "Epoch 11/18\n",
      "17000/17000 [==============================] - 13s 741us/sample - loss: 18002.2462 - root_mean_squared_error: 134.1725 - loss: 17849.4378 - root_mean_squared_error:  - ETA: - ETA: 2s - lo\n",
      "Epoch 12/18\n",
      "17000/17000 [==============================] - 12s 733us/sample - loss: 17880.1731 - root_mean_squared_error: 133.7168\n",
      "Epoch 13/18\n",
      "17000/17000 [==============================] - 13s 740us/sample - loss: 17988.6365 - root_mean_squared_error: 134.1216 - loss\n",
      "Epoch 14/18\n",
      "17000/17000 [==============================] - 13s 747us/sample - loss: 17986.7371 - root_mean_squared_error: 134.1146\n",
      "Epoch 15/18\n",
      "17000/17000 [==============================] - 12s 730us/sample - loss: 17924.4094 - root_mean_squared_error: 133.8820\n",
      "Epoch 16/18\n",
      "17000/17000 [==============================] - 13s 751us/sample - loss: 18670.8877 - root_mean_squared_error: 136.6416\n",
      "Epoch 17/18\n",
      "17000/17000 [==============================] - 13s 790us/sample - loss: 18653.7004 - root_mean_squared_error: 136.5786s - - ETA: 8s - loss: 18194.9298 - root_mean_squared_e - ETA: - ETA: 2s - loss: 17977.9608 - - ETA: 0s - loss: 17914.2734 - root_mean_squared_er\n",
      "Epoch 18/18\n",
      "17000/17000 [==============================] - 13s 764us/sample - loss: 17845.8704 - root_mean_squared_error: 133.5883 - loss: 17672.0802 - root_mean_s\n"
     ]
    },
    {
     "data": {
      "image/png": "[encoded data removed]",
      "text/plain": [
       "<Figure size 432x288 with 1 Axes>"
      ]
     },
     "metadata": {
      "needs_background": "light"
     },
     "output_type": "display_data"
    },
    {
     "data": {
      "image/png": "[encoded data removed]",
      "text/plain": [
       "<Figure size 432x288 with 1 Axes>"
      ]
     },
     "metadata": {
      "needs_background": "light"
     },
     "output_type": "display_data"
    },
    {
     "name": "stdout",
     "output_type": "stream",
     "text": [
      "feature   label          predicted\n",
      "  value   value          value\n",
      "          in thousand$   in thousand$\n",
      "--------------------------------------\n",
      " 1286     53             215\n",
      " 1867     92             218\n",
      " 2191     69             219\n",
      " 1052     62             214\n",
      " 1647     80             217\n",
      " 2312    295             220\n",
      " 1604    500             217\n",
      " 1066    342             215\n",
      "  338    118             212\n",
      " 1604    128             217\n"
     ]
    }
   ],
   "source": [
    "#@title Double-click to view a possible solution.\n",
    "\n",
    "my_feature = \"population\" # Pick a feature other than \"total_rooms\"\n",
    "\n",
    "# Possibly, experiment with the hyperparameters.\n",
    "learning_rate = 0.05\n",
    "epochs = 18\n",
    "batch_size = 3\n",
    "\n",
    "# Don't change anything below.\n",
    "my_model = build_model(learning_rate)\n",
    "weight, bias, epochs, rmse = train_model(my_model, training_df, \n",
    "                                         my_feature, my_label,\n",
    "                                         epochs, batch_size)\n",
    "\n",
    "plot_the_model(weight, bias, my_feature, my_label)\n",
    "plot_the_loss_curve(epochs, rmse)\n",
    "\n",
    "predict_house_values(10, my_feature, my_label)"
   ]
  },
  {
   "cell_type": "markdown",
   "metadata": {},
   "source": [
    "#@title Double-click to view the answer.\n",
    "\n",
    "# Training is not entirely deterministic, but population \n",
    "# typically converges at a slightly higher RMSE than \n",
    "# total_rooms.  So, population appears to be about \n",
    "# the same or slightly worse at making predictions \n",
    "# than total_rooms."
   ]
  },
  {
   "cell_type": "markdown",
   "metadata": {},
   "source": [
    "## Task 4: Define a synthetic feature\n",
    "\n",
    "You have determined that `total_rooms` and `population` were not useful features.  That is, neither the total number of rooms in a neighborhood nor the neighborhood's population successfully predicted the median house price of that neighborhood. Perhaps though, the *ratio* of `total_rooms` to `population` might have some predictive power. That is, perhaps block density relates to median house value.\n",
    "\n",
    "To explore this hypothesis, do the following: \n",
    "\n",
    "1. Create a [synthetic feature](https://developers.google.com/machine-learning/glossary/#synthetic_feature) that's a ratio of `total_rooms` to `population`. (If you are new to pandas DataFrames, please study the [Pandas DataFrame Ultraquick Tutorial](https://colab.research.google.com/github/google/eng-edu/blob/master/ml/cc/exercises/pandas_dataframe_ultraquick_tutorial.ipynb?utm_source=linearregressionreal-colab&utm_medium=colab&utm_campaign=colab-external&utm_content=pandas_tf2-colab&hl=en).)\n",
    "2. Tune the three hyperparameters.\n",
    "3. Determine whether this synthetic feature produces \n",
    "   a lower loss value than any of the single features you \n",
    "   tried earlier in this exercise."
   ]
  },
  {
   "cell_type": "code",
   "execution_count": 13,
   "metadata": {},
   "outputs": [
    {
     "name": "stdout",
     "output_type": "stream",
     "text": [
      "WARNING:tensorflow:Falling back from v2 loop because of error: Failed to find data adapter that can handle input: <class 'pandas.core.series.Series'>, <class 'NoneType'>\n",
      "Train on 17000 samples\n",
      "Epoch 1/20\n",
      "17000/17000 [==============================] - 8s 489us/sample - loss: 15723.7868 - root_mean_squared_error: 125.3945\n",
      "Epoch 2/20\n",
      "17000/17000 [==============================] - 8s 491us/sample - loss: 14700.3443 - root_mean_squared_error: 121.2449\n",
      "Epoch 3/20\n",
      "17000/17000 [==============================] - 7s 416us/sample - loss: 14524.3955 - root_mean_squared_error: 120.5171s - loss: 14025.5741 - root_mean_squa\n",
      "Epoch 4/20\n",
      "17000/17000 [==============================] - 7s 435us/sample - loss: 14460.0818 - root_mean_squared_error: 120.2501\n",
      "Epoch 5/20\n",
      "17000/17000 [==============================] - 10s 564us/sample - loss: 14396.9220 - root_mean_squared_error: 119.9872\n",
      "Epoch 6/20\n",
      "17000/17000 [==============================] - 8s 467us/sample - loss: 14783.6842 - root_mean_squared_error: 121.5882\n",
      "Epoch 7/20\n",
      "17000/17000 [==============================] - 8s 446us/sample - loss: 14566.1842 - root_mean_squared_error: 120.6904\n",
      "Epoch 8/20\n",
      "17000/17000 [==============================] - 7s 432us/sample - loss: 14224.1184 - root_mean_squared_error: 119.2649\n",
      "Epoch 9/20\n",
      "17000/17000 [==============================] - 7s 426us/sample - loss: 14580.2205 - root_mean_squared_error: 120.7485\n",
      "Epoch 10/20\n",
      "17000/17000 [==============================] - 8s 449us/sample - loss: 14651.7746 - root_mean_squared_error: 121.0445\n",
      "Epoch 11/20\n",
      "17000/17000 [==============================] - 7s 440us/sample - loss: 14667.7851 - root_mean_squared_error: 121.1106\n",
      "Epoch 12/20\n",
      "17000/17000 [==============================] - 7s 434us/sample - loss: 14818.2438 - root_mean_squared_error: 121.7302s - loss: 14792.7374 - root_mean_squared_e\n",
      "Epoch 13/20\n",
      "17000/17000 [==============================] - 7s 438us/sample - loss: 14320.0685 - root_mean_squared_error: 119.6664\n",
      "Epoch 14/20\n",
      "17000/17000 [==============================] - 7s 421us/sample - loss: 14521.1126 - root_mean_squared_error: 120.5036\n",
      "Epoch 15/20\n",
      "17000/17000 [==============================] - 7s 422us/sample - loss: 14703.6015 - root_mean_squared_error: 121.2584\n",
      "Epoch 16/20\n",
      "17000/17000 [==============================] - 7s 424us/sample - loss: 14881.6622 - root_mean_squared_error: 121.9905s - loss: 15199.2171 - root_m\n",
      "Epoch 17/20\n",
      "17000/17000 [==============================] - 7s 426us/sample - loss: 14824.4471 - root_mean_squared_error: 121.7557\n",
      "Epoch 18/20\n",
      "17000/17000 [==============================] - 8s 481us/sample - loss: 14470.6435 - root_mean_squared_error: 120.2940A: 3s - loss: 14519.3542 - root_mean_squar - ETA: 2s - l\n",
      "Epoch 19/20\n",
      "17000/17000 [==============================] - 8s 465us/sample - loss: 14495.8208 - root_mean_squared_error: 120.3986\n",
      "Epoch 20/20\n",
      "17000/17000 [==============================] - 7s 430us/sample - loss: 14266.5165 - root_mean_squared_error: 119.4425\n"
     ]
    },
    {
     "data": {
      "image/png": "[encoded data removed]",
      "text/plain": [
       "<Figure size 432x288 with 1 Axes>"
      ]
     },
     "metadata": {
      "needs_background": "light"
     },
     "output_type": "display_data"
    },
    {
     "name": "stdout",
     "output_type": "stream",
     "text": [
      "feature   label          predicted\n",
      "  value   value          value\n",
      "          in thousand$   in thousand$\n",
      "--------------------------------------\n",
      "    2     53             177\n",
      "    2     92             193\n",
      "    2     69             185\n",
      "    2     62             208\n",
      "    1     80             173\n",
      "    2    295             228\n",
      "    2    500             207\n",
      "    2    342             225\n",
      "    4    118             317\n",
      "    2    128             212\n",
      "    2    187             227\n",
      "    3     80             241\n",
      "    2    112             228\n",
      "    2     95             220\n",
      "    2     69             207\n"
     ]
    }
   ],
   "source": [
    "# Define a synthetic feature named rooms_per_person\n",
    "training_df[\"rooms_per_person\"] = training_df[\"total_rooms\"]/training_df[\"population\"] # write your code here.\n",
    "\n",
    "# Don't change the next line.\n",
    "my_feature = \"rooms_per_person\"\n",
    "\n",
    "# Assign values to these three hyperparameters.\n",
    "learning_rate = .5\n",
    "epochs = 20\n",
    "batch_size = 5\n",
    "\n",
    "# Don't change anything below this line.\n",
    "my_model = build_model(learning_rate)\n",
    "weight, bias, epochs, rmse = train_model(my_model, training_df,\n",
    "                                         my_feature, my_label,\n",
    "                                         epochs, batch_size)\n",
    "\n",
    "plot_the_loss_curve(epochs, rmse)\n",
    "predict_house_values(15, my_feature, my_label)"
   ]
  },
  {
   "cell_type": "code",
   "execution_count": 14,
   "metadata": {},
   "outputs": [
    {
     "name": "stdout",
     "output_type": "stream",
     "text": [
      "WARNING:tensorflow:Falling back from v2 loop because of error: Failed to find data adapter that can handle input: <class 'pandas.core.series.Series'>, <class 'NoneType'>\n",
      "Train on 17000 samples\n",
      "Epoch 1/24\n",
      "17000/17000 [==============================] - 2s 100us/sample - loss: 38830.2801 - root_mean_squared_error: 197.0540\n",
      "Epoch 2/24\n",
      "17000/17000 [==============================] - 1s 62us/sample - loss: 19298.1656 - root_mean_squared_error: 138.9178\n",
      "Epoch 3/24\n",
      "17000/17000 [==============================] - 1s 62us/sample - loss: 15028.9877 - root_mean_squared_error: 122.5928\n",
      "Epoch 4/24\n",
      "17000/17000 [==============================] - 1s 63us/sample - loss: 14785.0075 - root_mean_squared_error: 121.5936\n",
      "Epoch 5/24\n",
      "17000/17000 [==============================] - 1s 70us/sample - loss: 14566.7431 - root_mean_squared_error: 120.6928\n",
      "Epoch 6/24\n",
      "17000/17000 [==============================] - 1s 78us/sample - loss: 14372.5011 - root_mean_squared_error: 119.8854\n",
      "Epoch 7/24\n",
      "17000/17000 [==============================] - 1s 72us/sample - loss: 14203.3349 - root_mean_squared_error: 119.1777\n",
      "Epoch 8/24\n",
      "17000/17000 [==============================] - 1s 78us/sample - loss: 14091.9281 - root_mean_squared_error: 118.7095\n",
      "Epoch 9/24\n",
      "17000/17000 [==============================] - 1s 71us/sample - loss: 14010.1872 - root_mean_squared_error: 118.3647\n",
      "Epoch 10/24\n",
      "17000/17000 [==============================] - 1s 73us/sample - loss: 13912.8772 - root_mean_squared_error: 117.9528\n",
      "Epoch 11/24\n",
      "17000/17000 [==============================] - 1s 70us/sample - loss: 13785.3780 - root_mean_squared_error: 117.4112\n",
      "Epoch 12/24\n",
      "17000/17000 [==============================] - 1s 70us/sample - loss: 13711.4728 - root_mean_squared_error: 117.0960\n",
      "Epoch 13/24\n",
      "17000/17000 [==============================] - 1s 73us/sample - loss: 13639.4232 - root_mean_squared_error: 116.7879\n",
      "Epoch 14/24\n",
      "17000/17000 [==============================] - 1s 74us/sample - loss: 13601.1349 - root_mean_squared_error: 116.6239\n",
      "Epoch 15/24\n",
      "17000/17000 [==============================] - 1s 74us/sample - loss: 13590.4330 - root_mean_squared_error: 116.5780\n",
      "Epoch 16/24\n",
      "17000/17000 [==============================] - 1s 73us/sample - loss: 13575.4279 - root_mean_squared_error: 116.5136\n",
      "Epoch 17/24\n",
      "17000/17000 [==============================] - 1s 72us/sample - loss: 13535.7292 - root_mean_squared_error: 116.3431\n",
      "Epoch 18/24\n",
      "17000/17000 [==============================] - 1s 75us/sample - loss: 13500.6959 - root_mean_squared_error: 116.1925\n",
      "Epoch 19/24\n",
      "17000/17000 [==============================] - 1s 72us/sample - loss: 13497.0042 - root_mean_squared_error: 116.1766\n",
      "Epoch 20/24\n",
      "17000/17000 [==============================] - 1s 71us/sample - loss: 13462.2122 - root_mean_squared_error: 116.0268\n",
      "Epoch 21/24\n",
      "17000/17000 [==============================] - 1s 73us/sample - loss: 13431.5310 - root_mean_squared_error: 115.8945\n",
      "Epoch 22/24\n",
      "17000/17000 [==============================] - 1s 74us/sample - loss: 13385.1961 - root_mean_squared_error: 115.6944\n",
      "Epoch 23/24\n",
      "17000/17000 [==============================] - 1s 78us/sample - loss: 13352.1367 - root_mean_squared_error: 115.5515\n",
      "Epoch 24/24\n",
      "17000/17000 [==============================] - 1s 76us/sample - loss: 13351.3165 - root_mean_squared_error: 115.5479\n"
     ]
    },
    {
     "data": {
      "image/png": "[encoded data removed]",
      "text/plain": [
       "<Figure size 432x288 with 1 Axes>"
      ]
     },
     "metadata": {
      "needs_background": "light"
     },
     "output_type": "display_data"
    },
    {
     "name": "stdout",
     "output_type": "stream",
     "text": [
      "feature   label          predicted\n",
      "  value   value          value\n",
      "          in thousand$   in thousand$\n",
      "--------------------------------------\n",
      "    2     53             190\n",
      "    2     92             201\n",
      "    2     69             196\n",
      "    2     62             212\n",
      "    1     80             187\n",
      "    2    295             226\n",
      "    2    500             211\n",
      "    2    342             224\n",
      "    4    118             288\n",
      "    2    128             215\n",
      "    2    187             225\n",
      "    3     80             235\n",
      "    2    112             225\n",
      "    2     95             220\n",
      "    2     69             211\n"
     ]
    }
   ],
   "source": [
    "#@title Double-click to view a possible solution to Task 4.\n",
    "\n",
    "# Define a synthetic feature\n",
    "training_df[\"rooms_per_person\"] = training_df[\"total_rooms\"] / training_df[\"population\"]\n",
    "my_feature = \"rooms_per_person\"\n",
    "\n",
    "# Tune the hyperparameters.\n",
    "learning_rate = 0.06\n",
    "epochs = 24\n",
    "batch_size = 30\n",
    "\n",
    "# Don't change anything below this line.\n",
    "my_model = build_model(learning_rate)\n",
    "weight, bias, epochs, mae = train_model(my_model, training_df,\n",
    "                                        my_feature, my_label,\n",
    "                                        epochs, batch_size)\n",
    "\n",
    "plot_the_loss_curve(epochs, mae)\n",
    "predict_house_values(15, my_feature, my_label)\n"
   ]
  },
  {
   "cell_type": "markdown",
   "metadata": {},
   "source": [
    "Based on the loss values, this synthetic feature produces a better model than the individual features you tried in Task 2 and Task 3. However, the model still isn't creating great predictions."
   ]
  },
  {
   "cell_type": "markdown",
   "metadata": {},
   "source": [
    "## Task 5. Find feature(s) whose raw values correlate with the label\n",
    "\n",
    "So far, we've relied on trial-and-error to identify possible features for the model.  Let's rely on statistics instead.\n",
    "\n",
    "A **correlation matrix** indicates how each attribute's raw values relate to the other attributes' raw values. Correlation values have the following meanings:\n",
    "\n",
    "  * `1.0`: perfect positive correlation; that is, when one attribute rises, the other attribute rises.\n",
    "  * `-1.0`: perfect negative correlation; that is, when one attribute rises, the other attribute falls. \n",
    "  * `0.0`: no correlation; the two column's [are not linearly related](https://en.wikipedia.org/wiki/Correlation_and_dependence#/media/File:Correlation_examples2.svg).\n",
    "\n",
    "In general, the higher the absolute value of a correlation value, the greater its predictive power. For example, a correlation value of -0.8 implies far more predictive power than a correlation of -0.2.\n",
    "\n",
    "The following code cell generates the correlation matrix for attributes of the California Housing Dataset:"
   ]
  },
  {
   "cell_type": "code",
   "execution_count": 15,
   "metadata": {},
   "outputs": [
    {
     "data": {
      "text/html": [
       "<div>\n",
       "<style scoped>\n",
       "    .dataframe tbody tr th:only-of-type {\n",
       "        vertical-align: middle;\n",
       "    }\n",
       "\n",
       "    .dataframe tbody tr th {\n",
       "        vertical-align: top;\n",
       "    }\n",
       "\n",
       "    .dataframe thead th {\n",
       "        text-align: right;\n",
       "    }\n",
       "</style>\n",
       "<table border=\"1\" class=\"dataframe\">\n",
       "  <thead>\n",
       "    <tr style=\"text-align: right;\">\n",
       "      <th></th>\n",
       "      <th>longitude</th>\n",
       "      <th>latitude</th>\n",
       "      <th>housing_median_age</th>\n",
       "      <th>total_rooms</th>\n",
       "      <th>total_bedrooms</th>\n",
       "      <th>population</th>\n",
       "      <th>households</th>\n",
       "      <th>median_income</th>\n",
       "      <th>median_house_value</th>\n",
       "      <th>rooms_per_person</th>\n",
       "    </tr>\n",
       "  </thead>\n",
       "  <tbody>\n",
       "    <tr>\n",
       "      <th>longitude</th>\n",
       "      <td>1.0</td>\n",
       "      <td>-0.9</td>\n",
       "      <td>-0.1</td>\n",
       "      <td>0.0</td>\n",
       "      <td>0.1</td>\n",
       "      <td>0.1</td>\n",
       "      <td>0.1</td>\n",
       "      <td>-0.0</td>\n",
       "      <td>-0.0</td>\n",
       "      <td>-0.1</td>\n",
       "    </tr>\n",
       "    <tr>\n",
       "      <th>latitude</th>\n",
       "      <td>-0.9</td>\n",
       "      <td>1.0</td>\n",
       "      <td>0.0</td>\n",
       "      <td>-0.0</td>\n",
       "      <td>-0.1</td>\n",
       "      <td>-0.1</td>\n",
       "      <td>-0.1</td>\n",
       "      <td>-0.1</td>\n",
       "      <td>-0.1</td>\n",
       "      <td>0.1</td>\n",
       "    </tr>\n",
       "    <tr>\n",
       "      <th>housing_median_age</th>\n",
       "      <td>-0.1</td>\n",
       "      <td>0.0</td>\n",
       "      <td>1.0</td>\n",
       "      <td>-0.4</td>\n",
       "      <td>-0.3</td>\n",
       "      <td>-0.3</td>\n",
       "      <td>-0.3</td>\n",
       "      <td>-0.1</td>\n",
       "      <td>0.1</td>\n",
       "      <td>-0.1</td>\n",
       "    </tr>\n",
       "    <tr>\n",
       "      <th>total_rooms</th>\n",
       "      <td>0.0</td>\n",
       "      <td>-0.0</td>\n",
       "      <td>-0.4</td>\n",
       "      <td>1.0</td>\n",
       "      <td>0.9</td>\n",
       "      <td>0.9</td>\n",
       "      <td>0.9</td>\n",
       "      <td>0.2</td>\n",
       "      <td>0.1</td>\n",
       "      <td>0.1</td>\n",
       "    </tr>\n",
       "    <tr>\n",
       "      <th>total_bedrooms</th>\n",
       "      <td>0.1</td>\n",
       "      <td>-0.1</td>\n",
       "      <td>-0.3</td>\n",
       "      <td>0.9</td>\n",
       "      <td>1.0</td>\n",
       "      <td>0.9</td>\n",
       "      <td>1.0</td>\n",
       "      <td>-0.0</td>\n",
       "      <td>0.0</td>\n",
       "      <td>0.0</td>\n",
       "    </tr>\n",
       "    <tr>\n",
       "      <th>population</th>\n",
       "      <td>0.1</td>\n",
       "      <td>-0.1</td>\n",
       "      <td>-0.3</td>\n",
       "      <td>0.9</td>\n",
       "      <td>0.9</td>\n",
       "      <td>1.0</td>\n",
       "      <td>0.9</td>\n",
       "      <td>-0.0</td>\n",
       "      <td>-0.0</td>\n",
       "      <td>-0.1</td>\n",
       "    </tr>\n",
       "    <tr>\n",
       "      <th>households</th>\n",
       "      <td>0.1</td>\n",
       "      <td>-0.1</td>\n",
       "      <td>-0.3</td>\n",
       "      <td>0.9</td>\n",
       "      <td>1.0</td>\n",
       "      <td>0.9</td>\n",
       "      <td>1.0</td>\n",
       "      <td>0.0</td>\n",
       "      <td>0.1</td>\n",
       "      <td>-0.0</td>\n",
       "    </tr>\n",
       "    <tr>\n",
       "      <th>median_income</th>\n",
       "      <td>-0.0</td>\n",
       "      <td>-0.1</td>\n",
       "      <td>-0.1</td>\n",
       "      <td>0.2</td>\n",
       "      <td>-0.0</td>\n",
       "      <td>-0.0</td>\n",
       "      <td>0.0</td>\n",
       "      <td>1.0</td>\n",
       "      <td>0.7</td>\n",
       "      <td>0.2</td>\n",
       "    </tr>\n",
       "    <tr>\n",
       "      <th>median_house_value</th>\n",
       "      <td>-0.0</td>\n",
       "      <td>-0.1</td>\n",
       "      <td>0.1</td>\n",
       "      <td>0.1</td>\n",
       "      <td>0.0</td>\n",
       "      <td>-0.0</td>\n",
       "      <td>0.1</td>\n",
       "      <td>0.7</td>\n",
       "      <td>1.0</td>\n",
       "      <td>0.2</td>\n",
       "    </tr>\n",
       "    <tr>\n",
       "      <th>rooms_per_person</th>\n",
       "      <td>-0.1</td>\n",
       "      <td>0.1</td>\n",
       "      <td>-0.1</td>\n",
       "      <td>0.1</td>\n",
       "      <td>0.0</td>\n",
       "      <td>-0.1</td>\n",
       "      <td>-0.0</td>\n",
       "      <td>0.2</td>\n",
       "      <td>0.2</td>\n",
       "      <td>1.0</td>\n",
       "    </tr>\n",
       "  </tbody>\n",
       "</table>\n",
       "</div>"
      ],
      "text/plain": [
       "                    longitude  latitude  housing_median_age  total_rooms  \\\n",
       "longitude                 1.0      -0.9                -0.1          0.0   \n",
       "latitude                 -0.9       1.0                 0.0         -0.0   \n",
       "housing_median_age       -0.1       0.0                 1.0         -0.4   \n",
       "total_rooms               0.0      -0.0                -0.4          1.0   \n",
       "total_bedrooms            0.1      -0.1                -0.3          0.9   \n",
       "population                0.1      -0.1                -0.3          0.9   \n",
       "households                0.1      -0.1                -0.3          0.9   \n",
       "median_income            -0.0      -0.1                -0.1          0.2   \n",
       "median_house_value       -0.0      -0.1                 0.1          0.1   \n",
       "rooms_per_person         -0.1       0.1                -0.1          0.1   \n",
       "\n",
       "                    total_bedrooms  population  households  median_income  \\\n",
       "longitude                      0.1         0.1         0.1           -0.0   \n",
       "latitude                      -0.1        -0.1        -0.1           -0.1   \n",
       "housing_median_age            -0.3        -0.3        -0.3           -0.1   \n",
       "total_rooms                    0.9         0.9         0.9            0.2   \n",
       "total_bedrooms                 1.0         0.9         1.0           -0.0   \n",
       "population                     0.9         1.0         0.9           -0.0   \n",
       "households                     1.0         0.9         1.0            0.0   \n",
       "median_income                 -0.0        -0.0         0.0            1.0   \n",
       "median_house_value             0.0        -0.0         0.1            0.7   \n",
       "rooms_per_person               0.0        -0.1        -0.0            0.2   \n",
       "\n",
       "                    median_house_value  rooms_per_person  \n",
       "longitude                         -0.0              -0.1  \n",
       "latitude                          -0.1               0.1  \n",
       "housing_median_age                 0.1              -0.1  \n",
       "total_rooms                        0.1               0.1  \n",
       "total_bedrooms                     0.0               0.0  \n",
       "population                        -0.0              -0.1  \n",
       "households                         0.1              -0.0  \n",
       "median_income                      0.7               0.2  \n",
       "median_house_value                 1.0               0.2  \n",
       "rooms_per_person                   0.2               1.0  "
      ]
     },
     "execution_count": 15,
     "metadata": {},
     "output_type": "execute_result"
    }
   ],
   "source": [
    "# Generate a correlation matrix.\n",
    "training_df.corr()"
   ]
  },
  {
   "cell_type": "markdown",
   "metadata": {},
   "source": [
    "The correlation matrix shows nine potential features (including a synthetic\n",
    "feature) and one label (`median_house_value`).  A strong negative correlation or strong positive correlation with the label suggests a potentially good feature.  \n",
    "\n",
    "**Your Task:** Determine which of the nine potential features appears to be the best candidate for a feature?"
   ]
  },
  {
   "cell_type": "code",
   "execution_count": 16,
   "metadata": {},
   "outputs": [],
   "source": [
    "#@title Double-click here for the solution to Task 5\n",
    "\n",
    "# The `median_income` correlates 0.7 with the label \n",
    "# (median_house_value), so median_income` might be a \n",
    "# good feature. The other seven potential features\n",
    "# all have a correlation relatively close to 0. \n",
    "\n",
    "# If time permits, try median_income as the feature\n",
    "# and see whether the model improves."
   ]
  },
  {
   "cell_type": "markdown",
   "metadata": {},
   "source": [
    "Correlation matrices don't tell the entire story. In later exercises, you'll find additional ways to unlock predictive power from potential features.\n",
    "\n",
    "**Note:** Using `median_income` as a feature may raise some ethical and fairness\n",
    "issues. Towards the end of the course, we'll explore ethical and fairness issues."
   ]
  },
  {
   "cell_type": "code",
   "execution_count": 17,
   "metadata": {},
   "outputs": [
    {
     "name": "stdout",
     "output_type": "stream",
     "text": [
      "WARNING:tensorflow:Falling back from v2 loop because of error: Failed to find data adapter that can handle input: <class 'pandas.core.series.Series'>, <class 'NoneType'>\n",
      "Train on 17000 samples\n",
      "Epoch 1/24\n",
      "17000/17000 [==============================] - 2s 143us/sample - loss: 25335.3097 - root_mean_squared_error: 159.1707\n",
      "Epoch 2/24\n",
      "17000/17000 [==============================] - 1s 70us/sample - loss: 7176.0613 - root_mean_squared_error: 84.7116\n",
      "Epoch 3/24\n",
      "17000/17000 [==============================] - 1s 77us/sample - loss: 7015.4838 - root_mean_squared_error: 83.7585\n",
      "Epoch 4/24\n",
      "17000/17000 [==============================] - 2s 100us/sample - loss: 7016.2151 - root_mean_squared_error: 83.7628\n",
      "Epoch 5/24\n",
      "17000/17000 [==============================] - 1s 83us/sample - loss: 7012.3431 - root_mean_squared_error: 83.7397\n",
      "Epoch 6/24\n",
      "17000/17000 [==============================] - 1s 78us/sample - loss: 7016.9367 - root_mean_squared_error: 83.7672\n",
      "Epoch 7/24\n",
      "17000/17000 [==============================] - 1s 81us/sample - loss: 7016.1306 - root_mean_squared_error: 83.7623\n",
      "Epoch 8/24\n",
      "17000/17000 [==============================] - 1s 74us/sample - loss: 7014.0682 - root_mean_squared_error: 83.7500\n",
      "Epoch 9/24\n",
      "17000/17000 [==============================] - 1s 71us/sample - loss: 7015.9583 - root_mean_squared_error: 83.7613\n",
      "Epoch 10/24\n",
      "17000/17000 [==============================] - 1s 73us/sample - loss: 7016.0642 - root_mean_squared_error: 83.76200s - loss: 6927.0057 - root_mean_squ\n",
      "Epoch 11/24\n",
      "17000/17000 [==============================] - 1s 74us/sample - loss: 7016.0829 - root_mean_squared_error: 83.7621\n",
      "Epoch 12/24\n",
      "17000/17000 [==============================] - 2s 93us/sample - loss: 7015.7675 - root_mean_squared_error: 83.7602\n",
      "Epoch 13/24\n",
      "17000/17000 [==============================] - 2s 92us/sample - loss: 7015.9765 - root_mean_squared_error: 83.76140s - loss: 7019.5168 - root_mean_squared_error: 83.\n",
      "Epoch 14/24\n",
      "17000/17000 [==============================] - 1s 77us/sample - loss: 7014.9136 - root_mean_squared_error: 83.7551\n",
      "Epoch 15/24\n",
      "17000/17000 [==============================] - 1s 77us/sample - loss: 7013.0081 - root_mean_squared_error: 83.7437\n",
      "Epoch 16/24\n",
      "17000/17000 [==============================] - 1s 82us/sample - loss: 7016.2400 - root_mean_squared_error: 83.7630\n",
      "Epoch 17/24\n",
      "17000/17000 [==============================] - 1s 78us/sample - loss: 7015.7485 - root_mean_squared_error: 83.7601\n",
      "Epoch 18/24\n",
      "17000/17000 [==============================] - 1s 80us/sample - loss: 7016.2563 - root_mean_squared_error: 83.7631\n",
      "Epoch 19/24\n",
      "17000/17000 [==============================] - 1s 85us/sample - loss: 7016.0626 - root_mean_squared_error: 83.7619\n",
      "Epoch 20/24\n",
      "17000/17000 [==============================] - 1s 80us/sample - loss: 7017.4238 - root_mean_squared_error: 83.7701\n",
      "Epoch 21/24\n",
      "17000/17000 [==============================] - 1s 83us/sample - loss: 7016.4334 - root_mean_squared_error: 83.7642\n",
      "Epoch 22/24\n",
      "17000/17000 [==============================] - 1s 81us/sample - loss: 7014.6749 - root_mean_squared_error: 83.7537\n",
      "Epoch 23/24\n",
      "17000/17000 [==============================] - 1s 85us/sample - loss: 7013.1951 - root_mean_squared_error: 83.7448\n",
      "Epoch 24/24\n",
      "17000/17000 [==============================] - 1s 85us/sample - loss: 7017.6056 - root_mean_squared_error: 83.7711\n"
     ]
    },
    {
     "data": {
      "image/png": "[encoded data removed]",
      "text/plain": [
       "<Figure size 432x288 with 1 Axes>"
      ]
     },
     "metadata": {
      "needs_background": "light"
     },
     "output_type": "display_data"
    },
    {
     "name": "stdout",
     "output_type": "stream",
     "text": [
      "feature   label          predicted\n",
      "  value   value          value\n",
      "          in thousand$   in thousand$\n",
      "--------------------------------------\n",
      "    2     53             134\n",
      "    4     92             211\n",
      "    3     69             154\n",
      "    2     62             132\n",
      "    3     80             153\n",
      "    2    295             147\n",
      "   10    500             456\n",
      "    5    342             259\n",
      "    2    118             146\n",
      "    4    128             221\n",
      "    8    187             396\n",
      "    3     80             162\n",
      "    3    112             179\n",
      "    4     95             221\n",
      "    2     69             143\n"
     ]
    }
   ],
   "source": [
    "#@title Double-click to view a possible solution to Task 4.\n",
    "\n",
    "# try median_income\n",
    "my_feature = \"median_income\"\n",
    "\n",
    "# Tune the hyperparameters.\n",
    "learning_rate = 0.06\n",
    "epochs = 24\n",
    "batch_size = 30\n",
    "\n",
    "# Don't change anything below this line.\n",
    "my_model = build_model(learning_rate)\n",
    "weight, bias, epochs, mae = train_model(my_model, training_df,\n",
    "                                        my_feature, my_label,\n",
    "                                        epochs, batch_size)\n",
    "\n",
    "plot_the_loss_curve(epochs, mae)\n",
    "predict_house_values(15, my_feature, my_label)\n"
   ]
  },
  {
   "cell_type": "code",
   "execution_count": null,
   "metadata": {},
   "outputs": [],
   "source": []
  }
 ],
 "metadata": {
  "kernelspec": {
   "display_name": "Python 3",
   "language": "python",
   "name": "python3"
  },
  "language_info": {
   "codemirror_mode": {
    "name": "ipython",
    "version": 3
   },
   "file_extension": ".py",
   "mimetype": "text/x-python",
   "name": "python",
   "nbconvert_exporter": "python",
   "pygments_lexer": "ipython3",
   "version": "3.7.7"
  }
 },
 "nbformat": 4,
 "nbformat_minor": 4
}
